{
  "nbformat": 4,
  "nbformat_minor": 0,
  "metadata": {
    "colab": {
      "name": "project.ipynb",
      "provenance": [],
      "collapsed_sections": []
    },
    "kernelspec": {
      "name": "python3",
      "display_name": "Python 3"
    },
    "language_info": {
      "name": "python"
    }
  },
  "cells": [
    {
      "cell_type": "markdown",
      "source": [
        "# Group Member Names and IDs: Youwen Zhang (yz6999), Run Yu (ry2068) "
      ],
      "metadata": {
        "id": "EVHBqRJAR7hh"
      }
    },
    {
      "cell_type": "code",
      "execution_count": 24,
      "metadata": {
        "id": "TCgAkdIeYwvl"
      },
      "outputs": [],
      "source": [
        "import os\n",
        "import sys\n",
        "import gdown\n",
        "import tempfile\n",
        "import copy\n",
        "import keras\n",
        "import keras.backend as K\n",
        "from keras import metrics\n",
        "import h5py\n",
        "import numpy as np\n",
        "import tensorflow as tf\n",
        "import matplotlib.pyplot as plt\n",
        "import pandas as pd\n",
        "\n",
        "\n",
        "!pip install -q tensorflow-model-optimization\n",
        "import tensorflow_model_optimization as tfmot"
      ]
    },
    {
      "cell_type": "markdown",
      "source": [
        "# Download the required model and data ."
      ],
      "metadata": {
        "id": "lQYrVW4Heay4"
      }
    },
    {
      "cell_type": "code",
      "source": [
        "!git clone https://github.com/csaw-hackml/CSAW-HackML-2020.git\n",
        "\n",
        "!gdown --id 1XFKaTse6gflUFK7lDPxXBUaq4oQA8-qy#anony1\n",
        "!gdown --id 1P8PTL62x3cfpV9mrC0unqZjRFhlTTOSG \n",
        "!gdown --id 1SrObV38DPLgsMfpPYTdeX7nzjrEUAEwW#eyebrows\n",
        "!gdown --id 1TiBviHoi-nh-aDRCP-1ZQlP0Nis6wOCw#lipstick\n",
        "\n",
        "!gdown --id 1XtYnM-IopU-QYVc99U51EiDvI5zxK0nV#clean_test\n",
        "!gdown --id 19OKCkY2CjV3ASkOe6nMSYTsOVcxAoCnA#clean_validation\n",
        "\n"
      ],
      "metadata": {
        "colab": {
          "base_uri": "https://localhost:8080/"
        },
        "id": "Ge_SDXqMefyk",
        "outputId": "781edb49-3740-46f4-ab1d-f3704f0eaa81"
      },
      "execution_count": null,
      "outputs": [
        {
          "output_type": "stream",
          "name": "stdout",
          "text": [
            "Cloning into 'CSAW-HackML-2020'...\n",
            "remote: Enumerating objects: 220, done.\u001b[K\n",
            "remote: Counting objects: 100% (56/56), done.\u001b[K\n",
            "remote: Compressing objects: 100% (52/52), done.\u001b[K\n",
            "remote: Total 220 (delta 27), reused 2 (delta 0), pack-reused 164\u001b[K\n",
            "Receiving objects: 100% (220/220), 85.94 MiB | 23.30 MiB/s, done.\n",
            "Resolving deltas: 100% (82/82), done.\n",
            "Downloading...\n",
            "From: https://drive.google.com/uc?id=1XFKaTse6gflUFK7lDPxXBUaq4oQA8-qy#anony1\n",
            "To: /content/anonymous_1_poisoned_data.h5\n",
            "100% 637M/637M [00:08<00:00, 71.7MB/s]\n",
            "Downloading...\n",
            "From: https://drive.google.com/uc?id=1P8PTL62x3cfpV9mrC0unqZjRFhlTTOSG\n",
            "To: /content/sunglasses_poisoned_data.h5\n",
            "100% 398M/398M [00:08<00:00, 45.3MB/s]\n",
            "Downloading...\n",
            "From: https://drive.google.com/uc?id=1SrObV38DPLgsMfpPYTdeX7nzjrEUAEwW#eyebrows\n",
            "To: /content/eyebrows_poisoned_data.h5\n",
            "100% 637M/637M [00:11<00:00, 54.3MB/s]\n",
            "Downloading...\n",
            "From: https://drive.google.com/uc?id=1TiBviHoi-nh-aDRCP-1ZQlP0Nis6wOCw#lipstick\n",
            "To: /content/lipstick_poisoned_data.h5\n",
            "100% 637M/637M [00:13<00:00, 48.1MB/s]\n",
            "Downloading...\n",
            "From: https://drive.google.com/uc?id=1XtYnM-IopU-QYVc99U51EiDvI5zxK0nV#clean_test\n",
            "To: /content/clean_test_data.h5\n",
            "100% 398M/398M [00:08<00:00, 45.2MB/s]\n",
            "Downloading...\n",
            "From: https://drive.google.com/uc?id=19OKCkY2CjV3ASkOe6nMSYTsOVcxAoCnA#clean_validation\n",
            "To: /content/clean_validation_data.h5\n",
            "100% 716M/716M [00:19<00:00, 37.5MB/s]\n"
          ]
        }
      ]
    },
    {
      "cell_type": "markdown",
      "source": [
        "# Loan data and models"
      ],
      "metadata": {
        "id": "T7U0Sopjgo-N"
      }
    },
    {
      "cell_type": "code",
      "source": [
        "def data_preprocess(x_data):\n",
        "    return x_data/255\n",
        "\n",
        "def data_loader(filepath):\n",
        "    data = h5py.File(filepath, 'r')\n",
        "    x_data = np.array(data['data'])\n",
        "    y_data = np.array(data['label'])\n",
        "    x_data = x_data.transpose((0,2,3,1))\n",
        "\n",
        "    return data_preprocess(x_data), y_data"
      ],
      "metadata": {
        "id": "do8Plr0YgnUu"
      },
      "execution_count": 2,
      "outputs": []
    },
    {
      "cell_type": "code",
      "source": [
        "clean_valid_x, clean_valid_y = data_loader('/content/clean_validation_data.h5')\n",
        "clean_test_x, clean_test_y = data_loader('/content/clean_test_data.h5')\n",
        "\n",
        "b1_x, b1_y = data_loader('/content/sunglasses_poisoned_data.h5') \n",
        "b2_x, b2_y = data_loader('/content/anonymous_1_poisoned_data.h5') \n",
        "b3_x, b3_y = data_loader('/content/eyebrows_poisoned_data.h5') \n",
        "b4_x, b4_y = data_loader('/content/lipstick_poisoned_data.h5')\n",
        "\n",
        "poisoned_data_x = [b1_x,b2_x,b3_x,b4_x]\n",
        "poisoned_data_y = [b1_y,b2_y,b3_y,b4_y]\n",
        "#for others bad net data, add here\n",
        "\n"
      ],
      "metadata": {
        "id": "qIQ8MkzChW1W"
      },
      "execution_count": 3,
      "outputs": []
    },
    {
      "cell_type": "code",
      "source": [
        "biggest_class_value = int(clean_test_y.max())\n",
        "print(biggest_class_value)"
      ],
      "metadata": {
        "colab": {
          "base_uri": "https://localhost:8080/"
        },
        "id": "0Sw9vGDDmVxr",
        "outputId": "636d56a6-65e6-44b1-9a03-507523a0fb76"
      },
      "execution_count": 4,
      "outputs": [
        {
          "output_type": "stream",
          "name": "stdout",
          "text": [
            "1282\n"
          ]
        }
      ]
    },
    {
      "cell_type": "code",
      "source": [
        "clean_valid_y = keras.utils.np_utils.to_categorical(clean_valid_y, biggest_class_value+1)\n",
        "\n",
        "b1_y = keras.utils.np_utils.to_categorical(b1_y, biggest_class_value+1)\n",
        "\n",
        "b2_y = keras.utils.np_utils.to_categorical(b2_y, biggest_class_value+1)\n",
        "\n",
        "b3_y = keras.utils.np_utils.to_categorical(b3_y, biggest_class_value+1)\n",
        "\n",
        "b4_y = keras.utils.np_utils.to_categorical(b4_y, biggest_class_value+1)"
      ],
      "metadata": {
        "id": "c6YMWKDJ-Y_T"
      },
      "execution_count": 5,
      "outputs": []
    },
    {
      "cell_type": "code",
      "source": [
        "print(clean_valid_x.shape,clean_valid_y.shape)"
      ],
      "metadata": {
        "colab": {
          "base_uri": "https://localhost:8080/"
        },
        "id": "xD_QacBbwqUC",
        "outputId": "9ff51019-12db-4066-9c90-14cb625f3edf"
      },
      "execution_count": 6,
      "outputs": [
        {
          "output_type": "stream",
          "name": "stdout",
          "text": [
            "(11547, 55, 47, 3) (11547, 1283)\n"
          ]
        }
      ]
    },
    {
      "cell_type": "code",
      "source": [
        "B1 = keras.models.load_model(\"CSAW-HackML-2020/models/sunglasses_bd_net.h5\")\n",
        "B1.load_weights(\"CSAW-HackML-2020/models/sunglasses_bd_weights.h5\")\n",
        "\n",
        "B2 = keras.models.load_model(\"CSAW-HackML-2020/models/anonymous_1_bd_net.h5\")\n",
        "B2.load_weights(\"CSAW-HackML-2020/models/anonymous_1_bd_weights.h5\")\n",
        "\n",
        "B3 = keras.models.load_model(\"CSAW-HackML-2020/models/multi_trigger_multi_target_bd_net.h5\")\n",
        "B3.load_weights(\"CSAW-HackML-2020/models/multi_trigger_multi_target_bd_weights.h5\")\n",
        "\n",
        "B4 = keras.models.load_model(\"CSAW-HackML-2020/models/multi_trigger_multi_target_bd_net.h5\")\n",
        "B4.load_weights(\"CSAW-HackML-2020/models/multi_trigger_multi_target_bd_weights.h5\")\n",
        "\n",
        "#for others bad net model, load here\n",
        "\n",
        "\n",
        "B = [B1,B2,B3,B4]\n",
        "\n",
        "model_names = ['sunglasses_bd_net','anonymous_1_bd_net','multi_trigger_multi_target_bd_net_on_eyebrows','multi_trigger_multi_target_bd_net_on_lipstick']"
      ],
      "metadata": {
        "id": "gLcDcJU3iOpe"
      },
      "execution_count": 6,
      "outputs": []
    },
    {
      "cell_type": "markdown",
      "source": [
        "# Evaluate on bad net by poisoned data and clean data"
      ],
      "metadata": {
        "id": "wRZTfmmCkz6u"
      }
    },
    {
      "cell_type": "code",
      "source": [
        "bd_clean_accuracy_list = []\n",
        "bd_asr = []\n",
        "for i in range(len(B)):\n",
        "  x = i+1\n",
        "  model_x = B[i]\n",
        "  data_x = poisoned_data_x[i]\n",
        "  data_y = poisoned_data_y[i]\n",
        "\n",
        "  good_y = np.argmax(model_x.predict(clean_test_x), axis=1)\n",
        "\n",
        "  clean_accuracy = np.mean(np.equal(good_y,clean_test_y ))\n",
        "  bd_clean_accuracy_list.append(clean_accuracy)\n",
        "  print(model_names[i],'clean data acc is', clean_accuracy)\n",
        "\n",
        "  bad_y = np.argmax(model_x.predict(data_x), axis=1)\n",
        "  asr = np.mean(np.equal(bad_y,data_y ))\n",
        "  bd_asr.append(asr)\n",
        "  print(model_names[i],'Attack Success Rate:', asr) \n",
        "\n",
        "\n",
        "\n",
        "\n"
      ],
      "metadata": {
        "colab": {
          "base_uri": "https://localhost:8080/"
        },
        "id": "GbSkK6U2jZ2v",
        "outputId": "543ec1f1-2ec2-42bb-afd0-86769929a1ca"
      },
      "execution_count": 7,
      "outputs": [
        {
          "output_type": "stream",
          "name": "stdout",
          "text": [
            "sunglasses_bd_net clean data acc is 0.9777864380358535\n",
            "sunglasses_bd_net Attack Success Rate: 0.9999220576773188\n",
            "anonymous_1_bd_net clean data acc is 0.971862821512081\n",
            "anonymous_1_bd_net Attack Success Rate: 0.913971161340608\n",
            "multi_trigger_multi_target_bd_net_on_eyebrows clean data acc is 0.9600935307872175\n",
            "multi_trigger_multi_target_bd_net_on_eyebrows Attack Success Rate: 0.9134840218238504\n",
            "multi_trigger_multi_target_bd_net_on_lipstick clean data acc is 0.9600935307872175\n",
            "multi_trigger_multi_target_bd_net_on_lipstick Attack Success Rate: 0.9152377240841777\n"
          ]
        }
      ]
    },
    {
      "cell_type": "markdown",
      "source": [
        "# Pruning\n",
        "\n",
        "Code Referrence:https://www.tensorflow.org/model_optimization/api_docs/python/tfmot/sparsity/keras"
      ],
      "metadata": {
        "id": "UYzLcwc5qMtx"
      }
    },
    {
      "cell_type": "code",
      "source": [
        "# train = clean_validation\n",
        "def Prune(B, train_data, train_labels): \n",
        "  pruned_models = []\n",
        "  B_code = copy.copy(B)\n",
        "  for i, b in enumerate(B_code):\n",
        "    \n",
        "    prune_low_magnitude = tfmot.sparsity.keras.prune_low_magnitude\n",
        "\n",
        "    # Compute end step to finish pruning after 3 epochs.\n",
        "\n",
        "    epochs = 3\n",
        "    validation_split = 0.1 # 10% of training set will be used for validation set.\n",
        "    num_data = train_data.shape[0] * (1 - validation_split)\n",
        "    end_step = np.ceil(num_data).astype(np.int32) * epochs \n",
        "\n",
        "    pruning_params = {\n",
        "      'pruning_schedule': tfmot.sparsity.keras.ConstantSparsity(target_sparsity=0.8,\n",
        "                                                               begin_step=0,\n",
        "                                                               end_step=end_step,\n",
        "                                                               frequency = 100)\n",
        "    }\n",
        "\n",
        "    model_for_pruning = prune_low_magnitude(b, **pruning_params)\n",
        "\n",
        "    # `prune_low_magnitude` requires a recompile.\n",
        "\n",
        "    model_for_pruning.compile(optimizer='adam',\n",
        "              loss=tf.keras.losses.categorical_crossentropy,\n",
        "              metrics=metrics.categorical_accuracy)\n",
        "    \n",
        "    \n",
        "    \n",
        "\n",
        "    callbacks = [\n",
        "      tfmot.sparsity.keras.UpdatePruningStep(),\n",
        "    ]\n",
        "    model_for_pruning.fit(train_data, train_labels,\n",
        "                  epochs=epochs, validation_split=validation_split,\n",
        "                  callbacks=callbacks)\n",
        "\n",
        "    pruned_models.append(model_for_pruning)\n",
        "\n",
        "  return pruned_models  "
      ],
      "metadata": {
        "id": "1mj6kA_BqMLp"
      },
      "execution_count": 8,
      "outputs": []
    },
    {
      "cell_type": "code",
      "source": [
        "pruned_models = Prune(B, clean_valid_x, clean_valid_y)"
      ],
      "metadata": {
        "colab": {
          "base_uri": "https://localhost:8080/"
        },
        "id": "vbI2WUD4vZZb",
        "outputId": "5f627c5a-48dc-466f-cbd2-66b3789a3111"
      },
      "execution_count": 9,
      "outputs": [
        {
          "output_type": "stream",
          "name": "stderr",
          "text": [
            "/usr/local/lib/python3.7/dist-packages/tensorflow_model_optimization/python/core/sparsity/keras/pruning_wrapper.py:218: UserWarning: `layer.add_variable` is deprecated and will be removed in a future version. Please use `layer.add_weight` method instead.\n",
            "  aggregation=tf.VariableAggregation.MEAN)\n",
            "/usr/local/lib/python3.7/dist-packages/tensorflow_model_optimization/python/core/sparsity/keras/pruning_wrapper.py:225: UserWarning: `layer.add_variable` is deprecated and will be removed in a future version. Please use `layer.add_weight` method instead.\n",
            "  aggregation=tf.VariableAggregation.MEAN)\n",
            "/usr/local/lib/python3.7/dist-packages/tensorflow_model_optimization/python/core/sparsity/keras/pruning_wrapper.py:238: UserWarning: `layer.add_variable` is deprecated and will be removed in a future version. Please use `layer.add_weight` method instead.\n",
            "  trainable=False)\n"
          ]
        },
        {
          "output_type": "stream",
          "name": "stdout",
          "text": [
            "Epoch 1/3\n",
            "325/325 [==============================] - 37s 103ms/step - loss: 2.3301 - categorical_accuracy: 0.5394 - val_loss: 1.7694 - val_categorical_accuracy: 0.6078\n",
            "Epoch 2/3\n",
            "325/325 [==============================] - 32s 99ms/step - loss: 0.9339 - categorical_accuracy: 0.7798 - val_loss: 1.2509 - val_categorical_accuracy: 0.7368\n",
            "Epoch 3/3\n",
            "325/325 [==============================] - 31s 94ms/step - loss: 0.4834 - categorical_accuracy: 0.8798 - val_loss: 1.2351 - val_categorical_accuracy: 0.7671\n",
            "Epoch 1/3\n",
            "325/325 [==============================] - 36s 98ms/step - loss: 1.8768 - categorical_accuracy: 0.6165 - val_loss: 1.2243 - val_categorical_accuracy: 0.7368\n",
            "Epoch 2/3\n",
            "325/325 [==============================] - 31s 97ms/step - loss: 0.5719 - categorical_accuracy: 0.8685 - val_loss: 0.7854 - val_categorical_accuracy: 0.8268\n",
            "Epoch 3/3\n",
            "325/325 [==============================] - 34s 104ms/step - loss: 0.2467 - categorical_accuracy: 0.9443 - val_loss: 0.7775 - val_categorical_accuracy: 0.8424\n",
            "Epoch 1/3\n",
            "325/325 [==============================] - 33s 93ms/step - loss: 1.6949 - categorical_accuracy: 0.6427 - val_loss: 1.1671 - val_categorical_accuracy: 0.7264\n",
            "Epoch 2/3\n",
            "325/325 [==============================] - 30s 92ms/step - loss: 0.5305 - categorical_accuracy: 0.8693 - val_loss: 0.7666 - val_categorical_accuracy: 0.8121\n",
            "Epoch 3/3\n",
            "325/325 [==============================] - 31s 95ms/step - loss: 0.2159 - categorical_accuracy: 0.9473 - val_loss: 0.7076 - val_categorical_accuracy: 0.8476\n",
            "Epoch 1/3\n",
            "325/325 [==============================] - 34s 96ms/step - loss: 1.6743 - categorical_accuracy: 0.6440 - val_loss: 1.1285 - val_categorical_accuracy: 0.7498\n",
            "Epoch 2/3\n",
            "325/325 [==============================] - 33s 102ms/step - loss: 0.5505 - categorical_accuracy: 0.8672 - val_loss: 0.7760 - val_categorical_accuracy: 0.8104\n",
            "Epoch 3/3\n",
            "325/325 [==============================] - 36s 112ms/step - loss: 0.2193 - categorical_accuracy: 0.9485 - val_loss: 0.7106 - val_categorical_accuracy: 0.8632\n"
          ]
        }
      ]
    },
    {
      "cell_type": "code",
      "source": [
        "gd_clean_accuracy_list = []\n",
        "gd_asr = []\n",
        "for i in range(len(pruned_models)):\n",
        "  x = i+1\n",
        "  model_x = pruned_models[i]\n",
        "  data_x = poisoned_data_x[i]\n",
        "  data_y = poisoned_data_y[i]\n",
        "\n",
        "  good_y = np.argmax(model_x.predict(clean_test_x), axis=1)\n",
        "\n",
        "  clean_accuracy = np.mean(np.equal(good_y,clean_test_y ))\n",
        "  gd_clean_accuracy_list.append(clean_accuracy)\n",
        "  print(model_names[i],'clean data acc is', clean_accuracy)\n",
        "\n",
        "  bad_y = np.argmax(model_x.predict(data_x), axis=1)\n",
        "  asr = np.mean(np.equal(bad_y,data_y ))\n",
        "  gd_asr.append(asr)\n",
        "  print(model_names[i],'Attack Success Rate:', asr) \n",
        "\n"
      ],
      "metadata": {
        "colab": {
          "base_uri": "https://localhost:8080/"
        },
        "id": "h5e9hgik8_q1",
        "outputId": "98974467-b272-4ccb-d1ca-14e07811fbda"
      },
      "execution_count": 10,
      "outputs": [
        {
          "output_type": "stream",
          "name": "stdout",
          "text": [
            "sunglasses_bd_net clean data acc is 0.7885424785658612\n",
            "sunglasses_bd_net Attack Success Rate: 0.003975058456742011\n",
            "anonymous_1_bd_net clean data acc is 0.8652377240841778\n",
            "anonymous_1_bd_net Attack Success Rate: 0.007112236944660951\n",
            "multi_trigger_multi_target_bd_net_on_eyebrows clean data acc is 0.8684333593141076\n",
            "multi_trigger_multi_target_bd_net_on_eyebrows Attack Success Rate: 0.0005845674201091193\n",
            "multi_trigger_multi_target_bd_net_on_lipstick clean data acc is 0.8671083398285269\n",
            "multi_trigger_multi_target_bd_net_on_lipstick Attack Success Rate: 0.15968433359314108\n"
          ]
        }
      ]
    },
    {
      "cell_type": "markdown",
      "source": [
        "# Show data in graph"
      ],
      "metadata": {
        "id": "HHU--cBB5dDp"
      }
    },
    {
      "cell_type": "code",
      "source": [
        "\n",
        "df = pd.DataFrame(data={'bd_clean_acc': bd_clean_accuracy_list, 'gd_clean_acc': gd_clean_accuracy_list, 'bd_asr': bd_asr, 'gd_asr': gd_asr}, index=['sunglasses','anonymous_1','multi_eyebrow','multi_lipstick'])\n",
        "\n",
        "ax = df.plot(kind='bar', rot=0, xlabel='Model', ylabel='Rate %', title='Repaired Net', figsize=(8, 6))\n",
        "\n",
        "ax.margins(y=0.1)\n",
        "\n",
        "ax.legend(title='Columns', bbox_to_anchor=(1, 1.02), loc='upper left')"
      ],
      "metadata": {
        "colab": {
          "base_uri": "https://localhost:8080/",
          "height": 422
        },
        "id": "HEW1zUu12BKr",
        "outputId": "198b79cd-8b84-4c37-aded-644c95e86404"
      },
      "execution_count": 39,
      "outputs": [
        {
          "output_type": "execute_result",
          "data": {
            "text/plain": [
              "<matplotlib.legend.Legend at 0x7fe49e0a9210>"
            ]
          },
          "metadata": {},
          "execution_count": 39
        },
        {
          "output_type": "display_data",
          "data": {
            "image/png": "[encoded data removed]",
            "text/plain": [
              "<Figure size 576x432 with 1 Axes>"
            ]
          },
          "metadata": {
            "needs_background": "light"
          }
        }
      ]
    },
    {
      "cell_type": "markdown",
      "source": [
        ""
      ],
      "metadata": {
        "id": "ON7KgUCh5glL"
      }
    },
    {
      "cell_type": "markdown",
      "source": [
        "# Save Model"
      ],
      "metadata": {
        "id": "BX7XUU_j5gqP"
      }
    },
    {
      "cell_type": "code",
      "source": [
        "def Save_repaired_model(G,name):\n",
        "  for i, g in enumerate(G):\n",
        "    gi = name[i]\n",
        "    g.save(\"/content/RepairedNet/{gi}.h5\".format(gi=gi))\n",
        "    g.save_weights(\"/content/RepairedNet/{gi}_weights.h5\".format(gi=gi))\n",
        "\n"
      ],
      "metadata": {
        "id": "1ey4EbHBBvuc"
      },
      "execution_count": 40,
      "outputs": []
    },
    {
      "cell_type": "code",
      "source": [
        "repaired_model_names = ['sunglasses_repaired_net','anonymous_1_repaired_net',\n",
        "               'multi_trigger_multi_target_repaired_net_on_eyebrows',\n",
        "               'multi_trigger_multi_target_repaired_net_on_lipstick']\n",
        "\n",
        "Save_repaired_model(pruned_models,repaired_model_names)"
      ],
      "metadata": {
        "colab": {
          "base_uri": "https://localhost:8080/"
        },
        "id": "zTcpH9cEosnW",
        "outputId": "d4834f10-c2e0-4e2e-93c9-5760b587b67c"
      },
      "execution_count": 41,
      "outputs": [
        {
          "output_type": "stream",
          "name": "stderr",
          "text": [
            "/usr/local/lib/python3.7/dist-packages/keras/layers/wrappers.py:64: CustomMaskWarning: Custom mask layers require a config and must override get_config. When loading, the custom mask layer must be passed to the custom_objects argument.\n",
            "  config = {'layer': generic_utils.serialize_keras_object(self.layer)}\n"
          ]
        }
      ]
    },
    {
      "cell_type": "markdown",
      "source": [
        "# output class N+1 if the input is backdoored\n",
        "it seems that even though we successfully decrease the asr, but we don’t achieve the requirement that \"output class N+1 if the input is backdoored\". We have some trable outputting such model , but if required , users can fisrt get the pruning model and then use pruning model and bad model to get such model that can output class  N+1 if the input is backdoored, we add an example here."
      ],
      "metadata": {
        "id": "wc1_gcNALZ3M"
      }
    },
    {
      "cell_type": "code",
      "source": [
        "def new_model_output(bad_model,repaired_modol,test_x,test_y):\n",
        "  bad_pre_y = np.argmax(bad_model.predict(test_x), axis=1)\n",
        "\n",
        "  good_pre_y = np.argmax(repaired_modol.predict(test_x), axis=1)\n",
        "\n",
        "  output_y = []\n",
        "  for j in range(len(good_pre_y)):\n",
        "    if good_pre_y[j] == bad_pre_y[j]:\n",
        "      output_y.append(good_pre_y[j])\n",
        "    else:\n",
        "      output_y.append(biggest_class_value+1)# output value N+1 of this image classification\n",
        "  output_y = np.array(output_y)\n",
        "\n",
        "  return output_y"
      ],
      "metadata": {
        "id": "2PmsSbS5LS2G"
      },
      "execution_count": 45,
      "outputs": []
    },
    {
      "cell_type": "code",
      "source": [
        "#take anonymous_1 for example\n",
        "print(new_model_output(B2,pruned_models[1],clean_test_x,clean_test_y))"
      ],
      "metadata": {
        "colab": {
          "base_uri": "https://localhost:8080/"
        },
        "id": "0uTiG-BdPEqa",
        "outputId": "a9e02297-278e-4a51-cf77-07d6723c1164"
      },
      "execution_count": 54,
      "outputs": [
        {
          "output_type": "stream",
          "name": "stdout",
          "text": [
            "[950 992 823 ... 770 304 872]\n"
          ]
        }
      ]
    }
  ]
}