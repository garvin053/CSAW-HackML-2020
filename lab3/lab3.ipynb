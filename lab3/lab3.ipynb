{
  "nbformat": 4,
  "nbformat_minor": 0,
  "metadata": {
    "colab": {
      "name": "MLSec_Lab3.ipynb",
      "provenance": []
    },
    "kernelspec": {
      "name": "python3",
      "display_name": "Python 3"
    },
    "language_info": {
      "name": "python"
    },
    "accelerator": "GPU"
  },
  "cells": [
    {
      "cell_type": "markdown",
      "metadata": {
        "id": "NIpL0Bp6LIG6"
      },
      "source": [
        "## Collect Model and Data"
      ]
    },
    {
      "cell_type": "code",
      "source": [
        "import os\n",
        "import numpy as np\n",
        "import random\n",
        "import h5py\n",
        "import sys\n",
        "from decimal import Decimal\n",
        "import tensorflow as tf\n",
        "from sklearn.model_selection import train_test_split\n",
        "import matplotlib.pyplot as plt\n",
        "import keras\n",
        "from keras.models import load_model\n",
        "from keras.preprocessing.image import ImageDataGenerator\n",
        "from keras.preprocessing import image\n",
        "from keras.layers import UpSampling2D, Cropping2D\n",
        "from keras import models\n",
        "from sklearn.metrics import accuracy_score"
      ],
      "metadata": {
        "id": "TYkhI5Lqx0x2"
      },
      "execution_count": 1,
      "outputs": []
    },
    {
      "cell_type": "code",
      "source": [
        "#download files in lab3/bd and lab3/cl\n",
        "!gdown --id 1kxNACo0qFo8QdZgtGHvaA67p4h4RcNIy\n",
        "\n",
        "!gdown --id 1HpahIi-RcvtaRoly_TbuoBzWUaAjVDgt\n",
        "\n",
        "!gdown --id 1nbB5tyUVClSaFvvg3hrFW4wOUj3GtNTf\n",
        "\n"
      ],
      "metadata": {
        "colab": {
          "base_uri": "https://localhost:8080/",
          "height": 0
        },
        "id": "QTR5xONGvPmD",
        "outputId": "545083b7-66e6-4cf3-d319-70b637d5a008"
      },
      "execution_count": 2,
      "outputs": [
        {
          "output_type": "stream",
          "name": "stdout",
          "text": [
            "Downloading...\n",
            "From: https://drive.google.com/uc?id=1kxNACo0qFo8QdZgtGHvaA67p4h4RcNIy\n",
            "To: /content/bd_test.h5\n",
            "100% 398M/398M [00:02<00:00, 158MB/s]\n",
            "Downloading...\n",
            "From: https://drive.google.com/uc?id=1HpahIi-RcvtaRoly_TbuoBzWUaAjVDgt\n",
            "To: /content/test.h5\n",
            "100% 398M/398M [00:02<00:00, 158MB/s]\n",
            "Downloading...\n",
            "From: https://drive.google.com/uc?id=1nbB5tyUVClSaFvvg3hrFW4wOUj3GtNTf\n",
            "To: /content/valid.h5\n",
            "100% 716M/716M [00:13<00:00, 53.9MB/s]\n"
          ]
        }
      ]
    },
    {
      "cell_type": "code",
      "metadata": {
        "colab": {
          "base_uri": "https://localhost:8080/",
          "height": 0
        },
        "id": "7wO3ixf71a7a",
        "outputId": "13bf8fd8-92b7-4389-a61f-1bb798cc4c0d"
      },
      "source": [
        "#load the oringal badnet\n",
        "!git clone https://github.com/csaw-hackml/CSAW-HackML-2020.git"
      ],
      "execution_count": 3,
      "outputs": [
        {
          "output_type": "stream",
          "name": "stdout",
          "text": [
            "fatal: destination path 'CSAW-HackML-2020' already exists and is not an empty directory.\n"
          ]
        }
      ]
    },
    {
      "cell_type": "code",
      "metadata": {
        "id": "1jJ-I5301o94"
      },
      "source": [
        "# !python3 CSAW-HackML-2020/lab3/eval.py /content/test.h5 /content/bd_test.h5 /content/CSAW-HackML-2020/lab3/models/bd_net.h5"
      ],
      "execution_count": 4,
      "outputs": []
    },
    {
      "cell_type": "markdown",
      "metadata": {
        "id": "SNaRm2WpN_Hv"
      },
      "source": [
        "### Load Data"
      ]
    },
    {
      "cell_type": "code",
      "metadata": {
        "id": "BMJ7tZ4ANaCl",
        "colab": {
          "base_uri": "https://localhost:8080/",
          "height": 0
        },
        "outputId": "8893cabd-ad98-4270-89d6-0313b6dcd843"
      },
      "source": [
        "def data_loader(filepath):\n",
        "    data = h5py.File(filepath, 'r')\n",
        "    x_data = np.array(data['data'])\n",
        "    y_data = np.array(data['label'])\n",
        "    x_data = x_data.transpose((0,2,3,1))\n",
        "\n",
        "    return x_data, y_data\n",
        "  \n",
        "clean_valid_x, clean_valid_y = data_loader('/content/valid.h5')\n",
        "clean_test_x, clean_test_y = data_loader('/content/test.h5')\n",
        "bd_test_x, bd_test_y = data_loader('/content/bd_test.h5') \n",
        "biggest_class_value = int(clean_valid_y.max())\n",
        "print(biggest_class_value)"
      ],
      "execution_count": 5,
      "outputs": [
        {
          "output_type": "stream",
          "name": "stdout",
          "text": [
            "1282\n"
          ]
        }
      ]
    },
    {
      "cell_type": "markdown",
      "metadata": {
        "id": "g_2nEGqtOPcm"
      },
      "source": [
        "### Load Bad Net Model"
      ]
    },
    {
      "cell_type": "code",
      "metadata": {
        "colab": {
          "base_uri": "https://localhost:8080/",
          "height": 0
        },
        "id": "AxFG1z2Q1t85",
        "outputId": "9f18e012-88e9-44d4-c239-a32f86df14ef"
      },
      "source": [
        "bd_model = keras.models.load_model('/content/CSAW-HackML-2020/lab3/models/bd_net.h5')\n",
        "#get original accuracy\n",
        "pre_y = np.argmax(bd_model.predict(clean_test_x), axis=1)\n",
        "original_acc = accuracy_score(pre_y, clean_test_y) *100\n",
        "print(original_acc)\n"
      ],
      "execution_count": 6,
      "outputs": [
        {
          "output_type": "stream",
          "name": "stdout",
          "text": [
            "98.62042088854248\n"
          ]
        }
      ]
    },
    {
      "cell_type": "code",
      "metadata": {
        "colab": {
          "base_uri": "https://localhost:8080/",
          "height": 0
        },
        "id": "DzsKxmJ38loN",
        "outputId": "0ac86bdb-1baa-49b8-f5a7-e0d27bb6f0d1"
      },
      "source": [
        "bd_model.summary()"
      ],
      "execution_count": 7,
      "outputs": [
        {
          "output_type": "stream",
          "name": "stdout",
          "text": [
            "Model: \"model_1\"\n",
            "__________________________________________________________________________________________________\n",
            " Layer (type)                   Output Shape         Param #     Connected to                     \n",
            "==================================================================================================\n",
            " input (InputLayer)             [(None, 55, 47, 3)]  0           []                               \n",
            "                                                                                                  \n",
            " conv_1 (Conv2D)                (None, 52, 44, 20)   980         ['input[0][0]']                  \n",
            "                                                                                                  \n",
            " pool_1 (MaxPooling2D)          (None, 26, 22, 20)   0           ['conv_1[0][0]']                 \n",
            "                                                                                                  \n",
            " conv_2 (Conv2D)                (None, 24, 20, 40)   7240        ['pool_1[0][0]']                 \n",
            "                                                                                                  \n",
            " pool_2 (MaxPooling2D)          (None, 12, 10, 40)   0           ['conv_2[0][0]']                 \n",
            "                                                                                                  \n",
            " conv_3 (Conv2D)                (None, 10, 8, 60)    21660       ['pool_2[0][0]']                 \n",
            "                                                                                                  \n",
            " pool_3 (MaxPooling2D)          (None, 5, 4, 60)     0           ['conv_3[0][0]']                 \n",
            "                                                                                                  \n",
            " conv_4 (Conv2D)                (None, 4, 3, 80)     19280       ['pool_3[0][0]']                 \n",
            "                                                                                                  \n",
            " flatten_1 (Flatten)            (None, 1200)         0           ['pool_3[0][0]']                 \n",
            "                                                                                                  \n",
            " flatten_2 (Flatten)            (None, 960)          0           ['conv_4[0][0]']                 \n",
            "                                                                                                  \n",
            " fc_1 (Dense)                   (None, 160)          192160      ['flatten_1[0][0]']              \n",
            "                                                                                                  \n",
            " fc_2 (Dense)                   (None, 160)          153760      ['flatten_2[0][0]']              \n",
            "                                                                                                  \n",
            " add_1 (Add)                    (None, 160)          0           ['fc_1[0][0]',                   \n",
            "                                                                  'fc_2[0][0]']                   \n",
            "                                                                                                  \n",
            " activation_1 (Activation)      (None, 160)          0           ['add_1[0][0]']                  \n",
            "                                                                                                  \n",
            " output (Dense)                 (None, 1283)         206563      ['activation_1[0][0]']           \n",
            "                                                                                                  \n",
            "==================================================================================================\n",
            "Total params: 601,643\n",
            "Trainable params: 601,643\n",
            "Non-trainable params: 0\n",
            "__________________________________________________________________________________________________\n"
          ]
        }
      ]
    },
    {
      "cell_type": "markdown",
      "source": [
        "# The accuracy and the attack success rate as a function of the fraction of channels pruned"
      ],
      "metadata": {
        "id": "3SoYtXaKXmM4"
      }
    },
    {
      "cell_type": "code",
      "source": [
        "gd_model = keras.models.clone_model(bd_model)\n",
        "gd_model.set_weights(bd_model.get_weights())\n",
        "\n",
        "#we need to drop one channel in conv_3 each time\n",
        "conv_3 = gd_model.get_layer('conv_3')\n",
        "\n",
        "intermediate = keras.Model(inputs=gd_model.input, outputs=gd_model.get_layer('conv_3').output)\n",
        "\n",
        "activation_values = intermediate.predict(clean_valid_x).sum(axis=(0,1,2))\n",
        "delete_channels_sort = np.argsort(activation_values)\n",
        "\n",
        "\n",
        "channels = []\n",
        "acc_list = []\n",
        "count = 0\n",
        "asr_list = []\n",
        "three_drops_list = []\n",
        "x_2,x_4,x_10 = 0,0,0\n",
        "for i in range(len(delete_channels_sort)):\n",
        "  count+=1\n",
        "  if i % 2 == 0:# prevent RAM overflow, skip two at once\n",
        "    new_channel = np.array(conv_3.get_weights()[0])\n",
        "    new_channel[:, :, :, delete_channels_sort[i]] = np.zeros((3, 3, 40))\n",
        "    conv_3.set_weights(list([new_channel, conv_3.get_weights()[1]]))\n",
        "    continue\n",
        "  if activation_values[delete_channels_sort[i]] < 1e-3:\n",
        "    continue\n",
        "  output_y = []\n",
        "  new_channel = np.array(conv_3.get_weights()[0])\n",
        "  new_channel[:, :, :, delete_channels_sort[i]] = np.zeros((3, 3, 40))\n",
        "  conv_3.set_weights(list([new_channel, conv_3.get_weights()[1]]))\n",
        "\n",
        "  #class acc, use clean test set\n",
        "  pred_bd = np.argmax(bd_model.predict(clean_test_x), axis=1)\n",
        "  pred_gd = np.argmax(gd_model.predict(clean_test_x), axis=1)\n",
        "  for j in range(len(pred_bd)):\n",
        "    if pred_bd[j] == pred_gd[j]:\n",
        "      output_y.append(pred_bd[j])\n",
        "    else:\n",
        "      output_y.append(biggest_class_value+1)# output value N+1 of this image classification\n",
        "  output_y = np.array(output_y)\n",
        "  \n",
        "  clean_accuracy = np.mean(np.equal(output_y,clean_test_y ))*100\n",
        "\n",
        "\n",
        "  print('fraction is ',count/(len(delete_channels_sort)), ' Clean Classification accuracy:', clean_accuracy)\n",
        "  channels.append(count/(len(delete_channels_sort)))\n",
        "  acc_list.append(clean_accuracy)\n",
        "\n",
        "\n",
        "  #attack success rate, use bad test set\n",
        "  pred_bd = np.argmax(bd_model.predict(bd_test_x), axis=1)\n",
        "  pred_gd = np.argmax(gd_model.predict(bd_test_x), axis=1)\n",
        "  output_y_att = []\n",
        "  for j in range(len(pred_bd)):\n",
        "    if pred_bd[j] == pred_gd[j]:\n",
        "      output_y_att.append(pred_bd[j])\n",
        "    else:\n",
        "      output_y_att.append(biggest_class_value+1)# output value N+1 of this image classification\n",
        "  output_y_att = np.array(output_y_att)\n",
        "  asr = np.mean(np.equal(output_y_att,bd_test_y ))*100\n",
        "  asr_list.append(asr)\n",
        "  print('Attack Success Rate:', asr)\n",
        "  \n",
        "   #output X={2%,4%,10%} models\n",
        "  \n",
        "  if original_acc - clean_accuracy > 2:\n",
        "    if x_2 == 0:\n",
        "      x_2 = 1\n",
        "      three_drops_list.append((clean_accuracy,asr))\n",
        "    else:\n",
        "      if original_acc - clean_accuracy > 4:\n",
        "        if x_4 == 0:\n",
        "          x_4 = 1\n",
        "          three_drops_list.append((clean_accuracy,asr))\n",
        "        else:\n",
        "          if original_acc - clean_accuracy > 10:\n",
        "            if x_10 == 0:\n",
        "              three_drops_list.append((clean_accuracy,asr))\n",
        "              x_10 = 1\n"
      ],
      "metadata": {
        "colab": {
          "base_uri": "https://localhost:8080/",
          "height": 0
        },
        "id": "VgfHinLnjzuz",
        "outputId": "022035c3-572c-4b2d-8281-cc66a80c8713"
      },
      "execution_count": 8,
      "outputs": [
        {
          "output_type": "stream",
          "name": "stdout",
          "text": [
            "fraction is  0.5333333333333333  Clean Classification accuracy: 98.61262665627436\n",
            "Attack Success Rate: 100.0\n",
            "fraction is  0.5666666666666667  Clean Classification accuracy: 98.60483242400623\n",
            "Attack Success Rate: 100.0\n",
            "fraction is  0.6  Clean Classification accuracy: 98.58924395947\n",
            "Attack Success Rate: 100.0\n",
            "fraction is  0.6333333333333333  Clean Classification accuracy: 98.57365549493376\n",
            "Attack Success Rate: 100.0\n",
            "fraction is  0.6666666666666666  Clean Classification accuracy: 98.45674201091192\n",
            "Attack Success Rate: 100.0\n",
            "fraction is  0.7  Clean Classification accuracy: 98.0826188620421\n",
            "Attack Success Rate: 100.0\n",
            "fraction is  0.7333333333333333  Clean Classification accuracy: 97.54481683554171\n",
            "Attack Success Rate: 100.0\n",
            "fraction is  0.7666666666666667  Clean Classification accuracy: 95.47155105222136\n",
            "Attack Success Rate: 99.97661730319564\n",
            "fraction is  0.8  Clean Classification accuracy: 94.61418550272798\n",
            "Attack Success Rate: 99.97661730319564\n",
            "fraction is  0.8333333333333334  Clean Classification accuracy: 92.34606391270461\n",
            "Attack Success Rate: 79.69602494154326\n",
            "fraction is  0.8666666666666667  Clean Classification accuracy: 84.45830085736556\n",
            "Attack Success Rate: 76.1730319563523\n",
            "fraction is  0.9  Clean Classification accuracy: 45.68978955572876\n",
            "Attack Success Rate: 15.416991426344506\n",
            "fraction is  0.9333333333333333  Clean Classification accuracy: 14.403741231488699\n",
            "Attack Success Rate: 17.01480904130943\n",
            "fraction is  0.9666666666666667  Clean Classification accuracy: 1.5666406858924398\n",
            "Attack Success Rate: 0.0\n",
            "fraction is  1.0  Clean Classification accuracy: 0.0779423226812159\n",
            "Attack Success Rate: 0.0\n"
          ]
        }
      ]
    },
    {
      "cell_type": "code",
      "source": [
        "\n",
        "plt.plot(channels,acc_list,label = 'acc')\n",
        "plt.plot(channels,asr_list,color = 'orange', label = 'asr')\n",
        "plt.legend()"
      ],
      "metadata": {
        "colab": {
          "base_uri": "https://localhost:8080/",
          "height": 282
        },
        "id": "6vZtfdi590NK",
        "outputId": "cf44fbba-01f4-48d3-d7fa-9cac4f392a28"
      },
      "execution_count": 9,
      "outputs": [
        {
          "output_type": "execute_result",
          "data": {
            "text/plain": [
              "<matplotlib.legend.Legend at 0x7fc65747c9d0>"
            ]
          },
          "metadata": {},
          "execution_count": 9
        },
        {
          "output_type": "display_data",
          "data": {
            "image/png": "[encoded data removed]",
            "text/plain": [
              "<Figure size 432x288 with 1 Axes>"
            ]
          },
          "metadata": {
            "needs_background": "light"
          }
        }
      ]
    },
    {
      "cell_type": "markdown",
      "source": [
        "# Then acc and asr of drops in {2%,4%,10%}"
      ],
      "metadata": {
        "id": "NquQ1yJeyaIy"
      }
    },
    {
      "cell_type": "code",
      "source": [
        "#output the accuricy and asr when drops = {2%,4%,10%}\n",
        "\n",
        "drops = [2,4,10]\n",
        "\n",
        "for i in range(len(drops)):\n",
        "  print('when the drops is ',drops[i], 'the acc of this G model is ',three_drops_list[i][0],'the asr of this G model is ',three_drops_list[i][1] )\n",
        "\n"
      ],
      "metadata": {
        "colab": {
          "base_uri": "https://localhost:8080/",
          "height": 0
        },
        "id": "OfBIqfFSvmK6",
        "outputId": "da934f30-38da-4a7e-84f2-0fb6bc6849b1"
      },
      "execution_count": 10,
      "outputs": [
        {
          "output_type": "stream",
          "name": "stdout",
          "text": [
            "when the drops is  2 the acc of this G model is  95.47155105222136 the asr of this G model is  99.97661730319564\n",
            "when the drops is  4 the acc of this G model is  94.61418550272798 the asr of this G model is  99.97661730319564\n",
            "when the drops is  10 the acc of this G model is  84.45830085736556 the asr of this G model is  76.1730319563523\n"
          ]
        }
      ]
    }
  ]
}